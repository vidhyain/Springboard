{
 "cells": [
  {
   "cell_type": "markdown",
   "metadata": {},
   "source": [
    "# XML example and exercise\n",
    "****\n",
    "+ study examples of accessing nodes in XML tree structure  \n",
    "+ work on exercise to be completed and submitted\n",
    "****\n",
    "+ reference: https://docs.python.org/2.7/library/xml.etree.elementtree.html\n",
    "+ data source: http://www.dbis.informatik.uni-goettingen.de/Mondial\n",
    "****"
   ]
  },
  {
   "cell_type": "code",
   "execution_count": 1,
   "metadata": {
    "collapsed": true
   },
   "outputs": [],
   "source": [
    "from xml.etree import ElementTree as ET"
   ]
  },
  {
   "cell_type": "markdown",
   "metadata": {},
   "source": [
    "## XML example\n",
    "\n",
    "+ for details about tree traversal and iterators, see https://docs.python.org/2.7/library/xml.etree.elementtree.html"
   ]
  },
  {
   "cell_type": "code",
   "execution_count": 2,
   "metadata": {
    "collapsed": false
   },
   "outputs": [],
   "source": [
    "document_tree = ET.parse( './data/mondial_database_less.xml' )\n"
   ]
  },
  {
   "cell_type": "code",
   "execution_count": 3,
   "metadata": {
    "collapsed": false
   },
   "outputs": [
    {
     "name": "stdout",
     "output_type": "stream",
     "text": [
      "Albania\n",
      "Greece\n",
      "Macedonia\n",
      "Serbia\n",
      "Montenegro\n",
      "Kosovo\n",
      "Andorra\n"
     ]
    }
   ],
   "source": [
    "# print names of all countries\n",
    "for child in document_tree.getroot():\n",
    "    print(child.find('name').text)"
   ]
  },
  {
   "cell_type": "code",
   "execution_count": 4,
   "metadata": {
    "collapsed": false
   },
   "outputs": [
    {
     "name": "stdout",
     "output_type": "stream",
     "text": [
      "* Albania:\n",
      "Tirana, Shkodër, Durrës, Vlorë, Elbasan, Korçë\n",
      "* Greece:\n",
      "Komotini, Kavala, Athina, Peiraias, Peristeri, Acharnes, Patra, Kozani, Kerkyra, Ioannina, Thessaloniki, Iraklio, Chania, Ermoupoli, Rhodes, Tripoli, Lamia, Chalkida, Larissa, Volos, Mytilini, Karyes\n",
      "* Macedonia:\n",
      "Skopje, Kumanovo\n",
      "* Serbia:\n",
      "Beograd, Novi Sad, Niš\n",
      "* Montenegro:\n",
      "Podgorica\n",
      "* Kosovo:\n",
      "Prishtine\n",
      "* Andorra:\n",
      "Andorra la Vella\n"
     ]
    }
   ],
   "source": [
    "# print names of all countries and their cities\n",
    "for element in document_tree.iterfind('country'):\n",
    "    print ('* ' + element.find('name').text + ':',)\n",
    "    capitals_string = ''\n",
    "    for subelement in element.getiterator('city'):\n",
    "        capitals_string += subelement.find('name').text + ', '\n",
    "    print (capitals_string[:-2])"
   ]
  },
  {
   "cell_type": "markdown",
   "metadata": {},
   "source": [
    "****\n",
    "## XML exercise\n",
    "\n",
    "Using data in 'data/mondial_database.xml', the examples above, and refering to https://docs.python.org/2.7/library/xml.etree.elementtree.html, find\n",
    "\n",
    "1. 10 countries with the lowest infant mortality rates\n",
    "2. 10 cities with the largest population\n",
    "3. 10 ethnic groups with the largest overall populations (sum of best/latest estimates over all countries)\n",
    "4. name and country of a) longest river, b) largest lake and c) airport at highest elevation"
   ]
  },
  {
   "cell_type": "markdown",
   "metadata": {},
   "source": [
    "# 1.10 countries with the lowest infant mortality rates\n",
    "Ans:\n",
    "1. Convert the Xml file into Element tree which is heirarichal tree structure of element tag.\n",
    "2. Identify the root of the tree and then iterate through tree to find the relevant tag. \n",
    "eg:root.getchildren() gives all children of root element\n",
    "3.To find countries with lowest infant mortality rates, first iterate through  root and identify the country tag which is subelement of root tag mondial\n",
    "4.Root tag has many country tag, loop through each country tag and to find the infant mortality tag of each country.\n",
    "5. To get the text of that mortality tag, findtext('tagname') function is used. The result of each iteration of loop is stored in list of dictionaries.\n",
    "6. Convert the list into Dataframe using pd.Dataframe('listname') and then sort the dataframe based on infant_mortality values in ascending order.\n",
    "7.The first 10 rows of DataFrame gives name of countries and  the lowest infant mortality rates."
   ]
  },
  {
   "cell_type": "code",
   "execution_count": 5,
   "metadata": {
    "collapsed": true
   },
   "outputs": [],
   "source": [
    "document = ET.parse( './data/mondial_database.xml' )"
   ]
  },
  {
   "cell_type": "code",
   "execution_count": 370,
   "metadata": {
    "collapsed": false
   },
   "outputs": [
    {
     "data": {
      "text/html": [
       "<div>\n",
       "<table border=\"1\" class=\"dataframe\">\n",
       "  <thead>\n",
       "    <tr style=\"text-align: right;\">\n",
       "      <th></th>\n",
       "      <th>name</th>\n",
       "      <th>infant_mortality</th>\n",
       "    </tr>\n",
       "  </thead>\n",
       "  <tbody>\n",
       "    <tr>\n",
       "      <th>38</th>\n",
       "      <td>Monaco</td>\n",
       "      <td>1.81</td>\n",
       "    </tr>\n",
       "    <tr>\n",
       "      <th>30</th>\n",
       "      <td>Romania</td>\n",
       "      <td>10.16</td>\n",
       "    </tr>\n",
       "    <tr>\n",
       "      <th>153</th>\n",
       "      <td>Fiji</td>\n",
       "      <td>10.2</td>\n",
       "    </tr>\n",
       "    <tr>\n",
       "      <th>69</th>\n",
       "      <td>Brunei</td>\n",
       "      <td>10.48</td>\n",
       "    </tr>\n",
       "    <tr>\n",
       "      <th>132</th>\n",
       "      <td>Grenada</td>\n",
       "      <td>10.5</td>\n",
       "    </tr>\n",
       "    <tr>\n",
       "      <th>237</th>\n",
       "      <td>Mauritius</td>\n",
       "      <td>10.59</td>\n",
       "    </tr>\n",
       "    <tr>\n",
       "      <th>124</th>\n",
       "      <td>Panama</td>\n",
       "      <td>10.7</td>\n",
       "    </tr>\n",
       "    <tr>\n",
       "      <th>243</th>\n",
       "      <td>Seychelles</td>\n",
       "      <td>10.77</td>\n",
       "    </tr>\n",
       "    <tr>\n",
       "      <th>102</th>\n",
       "      <td>United Arab Emirates</td>\n",
       "      <td>10.92</td>\n",
       "    </tr>\n",
       "    <tr>\n",
       "      <th>113</th>\n",
       "      <td>Barbados</td>\n",
       "      <td>10.93</td>\n",
       "    </tr>\n",
       "  </tbody>\n",
       "</table>\n",
       "</div>"
      ],
      "text/plain": [
       "                     name infant_mortality\n",
       "38                 Monaco             1.81\n",
       "30                Romania            10.16\n",
       "153                  Fiji             10.2\n",
       "69                 Brunei            10.48\n",
       "132               Grenada             10.5\n",
       "237             Mauritius            10.59\n",
       "124                Panama             10.7\n",
       "243            Seychelles            10.77\n",
       "102  United Arab Emirates            10.92\n",
       "113              Barbados            10.93"
      ]
     },
     "execution_count": 370,
     "metadata": {},
     "output_type": "execute_result"
    }
   ],
   "source": [
    "import pandas as pd\n",
    "root=document.getroot()\n",
    "d=[]\n",
    "for element in root.iterfind('country'):\n",
    "    d.append({'name' : element.findtext('name'),'infant_mortality':element.findtext('infant_mortality')})\n",
    "df=pd.DataFrame(d,columns=['name','infant_mortality'])\n",
    "df.shape\n",
    "df.isnull().sum()\n",
    "df.dropna(inplace=True)\n",
    "df.sort_values('infant_mortality').head(10)\n",
    "\n",
    "\n",
    "    \n",
    "\n",
    "    "
   ]
  },
  {
   "cell_type": "markdown",
   "metadata": {},
   "source": [
    "# 10 cities with the largest population"
   ]
  },
  {
   "cell_type": "markdown",
   "metadata": {},
   "source": [
    "Ans:\n",
    "1.To identify 10 cities with largest population,identify country tags and each country tag has list of city tag.\n",
    "2. Each city tag has name tag represent name of the city and list of population tags which represent population of city on specific year. \n",
    "3.List of dictionaries creates with city name, its population on each year listed in tag\n",
    "4. Then convert the list into Data frame. Then filter the population of table in latest year. According to the data in table '2014' is latest one and  store the latest result. \n",
    "5. Convert the string dtype of population column into integer using astype(int) function. Then sort population in descending order with argument inplace ='True so the changes will be restored in same table.\n",
    "6.Change index using reset_index() to list the index in ascending order. \n",
    "7.df.head(10) fives 10 cities with the largestpopulation"
   ]
  },
  {
   "cell_type": "code",
   "execution_count": 8,
   "metadata": {
    "collapsed": false
   },
   "outputs": [
    {
     "data": {
      "text/html": [
       "<div>\n",
       "<table border=\"1\" class=\"dataframe\">\n",
       "  <thead>\n",
       "    <tr style=\"text-align: right;\">\n",
       "      <th></th>\n",
       "      <th>city_name</th>\n",
       "      <th>populations</th>\n",
       "      <th>year</th>\n",
       "    </tr>\n",
       "  </thead>\n",
       "  <tbody>\n",
       "    <tr>\n",
       "      <th>13</th>\n",
       "      <td>Bogotá</td>\n",
       "      <td>7776845</td>\n",
       "      <td>2014</td>\n",
       "    </tr>\n",
       "    <tr>\n",
       "      <th>32</th>\n",
       "      <td>Yangon</td>\n",
       "      <td>5209541</td>\n",
       "      <td>2014</td>\n",
       "    </tr>\n",
       "    <tr>\n",
       "      <th>101</th>\n",
       "      <td>Abidjan</td>\n",
       "      <td>4395243</td>\n",
       "      <td>2014</td>\n",
       "    </tr>\n",
       "    <tr>\n",
       "      <th>39</th>\n",
       "      <td>Medellín</td>\n",
       "      <td>2441123</td>\n",
       "      <td>2014</td>\n",
       "    </tr>\n",
       "    <tr>\n",
       "      <th>145</th>\n",
       "      <td>Toshkent</td>\n",
       "      <td>2352900</td>\n",
       "      <td>2014</td>\n",
       "    </tr>\n",
       "    <tr>\n",
       "      <th>43</th>\n",
       "      <td>Cali</td>\n",
       "      <td>2344734</td>\n",
       "      <td>2014</td>\n",
       "    </tr>\n",
       "    <tr>\n",
       "      <th>23</th>\n",
       "      <td>Conakry</td>\n",
       "      <td>1667864</td>\n",
       "      <td>2014</td>\n",
       "    </tr>\n",
       "    <tr>\n",
       "      <th>5</th>\n",
       "      <td>Kampala</td>\n",
       "      <td>1516210</td>\n",
       "      <td>2014</td>\n",
       "    </tr>\n",
       "    <tr>\n",
       "      <th>65</th>\n",
       "      <td>Almaty</td>\n",
       "      <td>1507737</td>\n",
       "      <td>2014</td>\n",
       "    </tr>\n",
       "    <tr>\n",
       "      <th>100</th>\n",
       "      <td>Mandalay</td>\n",
       "      <td>1225133</td>\n",
       "      <td>2014</td>\n",
       "    </tr>\n",
       "  </tbody>\n",
       "</table>\n",
       "</div>"
      ],
      "text/plain": [
       "    city_name  populations  year\n",
       "13     Bogotá      7776845  2014\n",
       "32     Yangon      5209541  2014\n",
       "101   Abidjan      4395243  2014\n",
       "39   Medellín      2441123  2014\n",
       "145  Toshkent      2352900  2014\n",
       "43       Cali      2344734  2014\n",
       "23    Conakry      1667864  2014\n",
       "5     Kampala      1516210  2014\n",
       "65     Almaty      1507737  2014\n",
       "100  Mandalay      1225133  2014"
      ]
     },
     "execution_count": 8,
     "metadata": {},
     "output_type": "execute_result"
    }
   ],
   "source": [
    "pop_lis=[]\n",
    "for country in root.iter('country'):\n",
    "    for city in country.iter('city'):\n",
    "        name=city.findtext('name')\n",
    "        lists=list(city.iter('population'))\n",
    "        for e in lists:\n",
    "            pop_lis.append({'city_name':name,'year':(e.get('year')),'populations':(e.text)})\n",
    "pop_df=pd.DataFrame(pop_lis)\n",
    "pop_df.head(50)\n",
    "pop_df.sort_values('year',ascending=False,inplace=True)\n",
    "pop_year_df=pop_df[pop_df.year=='2014']\n",
    "pop_year_df=pop_year_df.reset_index(range(158))\n",
    "pop_year_df=pop_year_df.drop('index',1)\n",
    "pop_year_df['populations']=pop_year_df['populations'].astype(int)\n",
    "pop_year_df.sort_values('populations',ascending=False,inplace=True)\n",
    "pop_year_df.head(10)\n",
    "\n",
    "\n",
    "           \n",
    "\n",
    "    "
   ]
  },
  {
   "cell_type": "markdown",
   "metadata": {
    "collapsed": true
   },
   "source": [
    "#  10 ethnic groups with the largest overall populations (sum of best/latest estimates over all countries)"
   ]
  },
  {
   "cell_type": "markdown",
   "metadata": {
    "collapsed": true
   },
   "source": [
    "Ans:\n",
    "Two ways,it can be done\n",
    "First Ans\n",
    "1. Root element has list of country subelements. Each country has list of population tag which represent population on specfied years.\n",
    "2.Each country has more than one ethnic group and each group represent the name and percentage of their group in that country.\n",
    "3. Collect all this data in a list of dictionaries using for loop and convert them into Dataframe and result of data frame has following coulumns:\n",
    "        Country\n",
    "        year\n",
    "        population\n",
    "        ethnicgroup\n",
    "        percent\n",
    "4.Group the table so that resulted table will be group of population and percentage of ethnic group of each country based on year. \n",
    "5.Convert the data type of population and percent into numeric and then find population of ethnic group by mulitplying percent and population columns and divide the resut by 100.\n",
    "6.Filter the table for recent year ie 2014 and group the table based on ethnic group and sum the population of each ethnic group and store the result and reset the index of the result.\n",
    "7. Then sort the ethnicpopulation column in descending column and to find ethnic group has largest population store ethnicgroup and ethnpop column in new table name and to display 10countries with largest ethnic population df.head(10) is used."
   ]
  },
  {
   "cell_type": "code",
   "execution_count": 111,
   "metadata": {
    "collapsed": false
   },
   "outputs": [
    {
     "data": {
      "text/html": [
       "<div>\n",
       "<table border=\"1\" class=\"dataframe\">\n",
       "  <thead>\n",
       "    <tr style=\"text-align: right;\">\n",
       "      <th></th>\n",
       "      <th>ethnicgroup</th>\n",
       "      <th>ethnpop</th>\n",
       "    </tr>\n",
       "  </thead>\n",
       "  <tbody>\n",
       "    <tr>\n",
       "      <th>0</th>\n",
       "      <td>European</td>\n",
       "      <td>8.358005e+08</td>\n",
       "    </tr>\n",
       "    <tr>\n",
       "      <th>1</th>\n",
       "      <td>Russian</td>\n",
       "      <td>2.387651e+08</td>\n",
       "    </tr>\n",
       "    <tr>\n",
       "      <th>2</th>\n",
       "      <td>Javanese</td>\n",
       "      <td>2.269120e+08</td>\n",
       "    </tr>\n",
       "    <tr>\n",
       "      <th>3</th>\n",
       "      <td>Mulatto</td>\n",
       "      <td>1.721095e+08</td>\n",
       "    </tr>\n",
       "    <tr>\n",
       "      <th>4</th>\n",
       "      <td>African</td>\n",
       "      <td>1.119410e+08</td>\n",
       "    </tr>\n",
       "    <tr>\n",
       "      <th>5</th>\n",
       "      <td>Arab-Berber</td>\n",
       "      <td>7.647152e+07</td>\n",
       "    </tr>\n",
       "    <tr>\n",
       "      <th>6</th>\n",
       "      <td>Burman</td>\n",
       "      <td>7.564417e+07</td>\n",
       "    </tr>\n",
       "    <tr>\n",
       "      <th>7</th>\n",
       "      <td>Mestizo</td>\n",
       "      <td>7.325743e+07</td>\n",
       "    </tr>\n",
       "    <tr>\n",
       "      <th>8</th>\n",
       "      <td>Sundanese</td>\n",
       "      <td>7.059485e+07</td>\n",
       "    </tr>\n",
       "    <tr>\n",
       "      <th>9</th>\n",
       "      <td>Malay</td>\n",
       "      <td>3.781867e+07</td>\n",
       "    </tr>\n",
       "  </tbody>\n",
       "</table>\n",
       "</div>"
      ],
      "text/plain": [
       "   ethnicgroup       ethnpop\n",
       "0     European  8.358005e+08\n",
       "1      Russian  2.387651e+08\n",
       "2     Javanese  2.269120e+08\n",
       "3      Mulatto  1.721095e+08\n",
       "4      African  1.119410e+08\n",
       "5  Arab-Berber  7.647152e+07\n",
       "6       Burman  7.564417e+07\n",
       "7      Mestizo  7.325743e+07\n",
       "8    Sundanese  7.059485e+07\n",
       "9        Malay  3.781867e+07"
      ]
     },
     "execution_count": 111,
     "metadata": {},
     "output_type": "execute_result"
    }
   ],
   "source": [
    "d=[]\n",
    "for country in root.iter('country'):\n",
    "    tag_lists=list(country.iter('population'))\n",
    "    for e in tag_lists:\n",
    "        ethn_list=list(country.iter('ethnicgroup'))\n",
    "        for i in ethn_list:\n",
    "            d.append({'country':country.findtext('name'),'year':e.get('year'),'populations':e.text,'ethnicgroup':i.text,'percent':i.get('percentage')})\n",
    "            \n",
    "df=pd.DataFrame(d)\n",
    "df1=df.groupby(['country','ethnicgroup','percent','populations','year']).size()\n",
    "ehn_df=pd.DataFrame(df1)   \n",
    "ehn_df=ehn_df.reset_index()\n",
    "ehn_df=ehn_df.sort_values('year',ascending=False).drop(0,1)\n",
    "ehn_df['percent']=pd.to_numeric(ehn_df['percent'])\n",
    "ehn_df['populations']=ehn_df['populations'].astype(int)\n",
    "ehn_df['ethnpop']=(ehn_df['percent']*ehn_df['populations'])/100\n",
    "ehn_2014_df=ehn_df[ehn_df.year=='2014']\n",
    "ehn_2014_df=ehn_2014_df.groupby(['ethnicgroup']).sum()\n",
    "ehn_2014_df=ehn_2014_df.reset_index()\n",
    "ehn_2014_df=ehn_2014_df.sort_values('ethnpop',ascending=False)\n",
    "ehn_2014_df=ehn_2014_df[['ethnicgroup','ethnpop']]\n",
    "ehn_2014_df=ehn_2014_df.reset_index()\n",
    "ehn_2014_df.drop('index',1).head(10)\n",
    "\n",
    "    \n"
   ]
  },
  {
   "cell_type": "markdown",
   "metadata": {
    "collapsed": true
   },
   "source": [
    "Optimal Answer:\n",
    "1. Build two data frame one is population data frame which has name, year and population of each country\n",
    "2. Other one is ethnic data frame which has country name, ethnic group and its percentage in ach country.\n",
    "3. Fileter population data frame to display the recent population ie 2014.\n",
    "4.Merge these two table on  column'country name' and how='left' which sililar to left join. \n",
    "5.Then new colum 'ethnpop' is added and values of this coulumn computed by (population*percent)/100 \n",
    "6.Group each ethnic group and find sum of popualtion on each group and store the result.\n",
    "7. Reset index, so that resul table index will be in order.\n",
    "8.To display 10 ethnic group with largest opulation, the dataframe should have two column 'ethnicgroup' and 'ethnpop' and df.head(10) will display the result. "
   ]
  },
  {
   "cell_type": "code",
   "execution_count": 149,
   "metadata": {
    "collapsed": false
   },
   "outputs": [
    {
     "data": {
      "text/html": [
       "<div>\n",
       "<table border=\"1\" class=\"dataframe\">\n",
       "  <thead>\n",
       "    <tr style=\"text-align: right;\">\n",
       "      <th></th>\n",
       "      <th>ethnicgroup</th>\n",
       "      <th>overallpop</th>\n",
       "    </tr>\n",
       "  </thead>\n",
       "  <tbody>\n",
       "    <tr>\n",
       "      <th>23</th>\n",
       "      <td>European</td>\n",
       "      <td>8.373558e+08</td>\n",
       "    </tr>\n",
       "    <tr>\n",
       "      <th>55</th>\n",
       "      <td>Russian</td>\n",
       "      <td>2.394448e+08</td>\n",
       "    </tr>\n",
       "    <tr>\n",
       "      <th>31</th>\n",
       "      <td>Javanese</td>\n",
       "      <td>2.269120e+08</td>\n",
       "    </tr>\n",
       "    <tr>\n",
       "      <th>49</th>\n",
       "      <td>Mulatto</td>\n",
       "      <td>1.731982e+08</td>\n",
       "    </tr>\n",
       "    <tr>\n",
       "      <th>1</th>\n",
       "      <td>African</td>\n",
       "      <td>1.122521e+08</td>\n",
       "    </tr>\n",
       "    <tr>\n",
       "      <th>46</th>\n",
       "      <td>Mestizo</td>\n",
       "      <td>7.776800e+07</td>\n",
       "    </tr>\n",
       "    <tr>\n",
       "      <th>5</th>\n",
       "      <td>Arab-Berber</td>\n",
       "      <td>7.647152e+07</td>\n",
       "    </tr>\n",
       "    <tr>\n",
       "      <th>16</th>\n",
       "      <td>Burman</td>\n",
       "      <td>7.643186e+07</td>\n",
       "    </tr>\n",
       "    <tr>\n",
       "      <th>62</th>\n",
       "      <td>Sundanese</td>\n",
       "      <td>7.059485e+07</td>\n",
       "    </tr>\n",
       "    <tr>\n",
       "      <th>44</th>\n",
       "      <td>Malay</td>\n",
       "      <td>3.781867e+07</td>\n",
       "    </tr>\n",
       "  </tbody>\n",
       "</table>\n",
       "</div>"
      ],
      "text/plain": [
       "    ethnicgroup    overallpop\n",
       "23     European  8.373558e+08\n",
       "55      Russian  2.394448e+08\n",
       "31     Javanese  2.269120e+08\n",
       "49      Mulatto  1.731982e+08\n",
       "1       African  1.122521e+08\n",
       "46      Mestizo  7.776800e+07\n",
       "5   Arab-Berber  7.647152e+07\n",
       "16       Burman  7.643186e+07\n",
       "62    Sundanese  7.059485e+07\n",
       "44        Malay  3.781867e+07"
      ]
     },
     "execution_count": 149,
     "metadata": {},
     "output_type": "execute_result"
    }
   ],
   "source": [
    "d=[]\n",
    "b=[]\n",
    "for country in root.iter('country'):\n",
    "    \n",
    "    tag_lists=list(country.iter('population'))\n",
    "    for e in tag_lists:\n",
    "        d.append({'country':country.findtext('name'),'year':e.get('year'),'population':e.text})\n",
    "        ethn_list=list(country.iter('ethnicgroup'))\n",
    "    for i in ethn_list:\n",
    "            b.append({'country':country.findtext('name'),'ethnicgroup':i.text,'percent':i.get('percentage')})\n",
    "popul_df=pd.DataFrame(d)\n",
    "ethgp_df=pd.DataFrame(b)\n",
    "popul_df=popul_df.sort_values('year',ascending=False)\n",
    "popul_df['year']=popul_df['year'].astype(int)\n",
    "popul_df=popul_df[popul_df.year==2014]\n",
    "merged_df=pd.merge(popul_df,ethgp_df,on='country',how='left')\n",
    "merged_df['population']=merged_df['population'].astype(int)\n",
    "merged_df['percent']=pd.to_numeric(merged_df['percent'])\n",
    "merged_df['overallpop']=(merged_df['population']*merged_df['percent'])/100\n",
    "merged_df=merged_df.groupby('ethnicgroup').sum()\n",
    "merged_df=merged_df.reset_index()\n",
    "merged_df=merged_df[['ethnicgroup','overallpop']]\n",
    "merged_df.sort_values('overallpop',ascending=False).head(10)\n",
    "\n"
   ]
  },
  {
   "cell_type": "markdown",
   "metadata": {},
   "source": [
    "# name and country of a) longest river, b) largest lake and c) airport at highest elevation"
   ]
  },
  {
   "cell_type": "code",
   "execution_count": 356,
   "metadata": {
    "collapsed": false
   },
   "outputs": [
    {
     "data": {
      "text/plain": [
       "<Element 'airport' at 0x000002362CEA08B8>"
      ]
     },
     "execution_count": 356,
     "metadata": {},
     "output_type": "execute_result"
    }
   ],
   "source": [
    "root.getchildren()[-1].getchildren()"
   ]
  },
  {
   "cell_type": "markdown",
   "metadata": {},
   "source": [
    "# a)Longest River\n",
    "Sol:\n",
    "1. Root element has list of river subelement  and each river have name,length as its subelement or children. Lake element has attribute country_code.\n",
    "2. iterate the root element to identify river and its sublement and store it in list of dictionaries.\n",
    "3. Convert the list into DataFrame.\n",
    "4. Similarly, build country dataframe with country name and its code.\n",
    "5. Sort the river DataFrame in descending order of length value and then merge river_df and country_df on='code' and perform left join. \n",
    "6. The result of merge  will have river_name, length, country_code and country name as its column\n",
    "The first row will give the longest river."
   ]
  },
  {
   "cell_type": "code",
   "execution_count": 354,
   "metadata": {
    "collapsed": false
   },
   "outputs": [
    {
     "data": {
      "text/html": [
       "<div>\n",
       "<table border=\"1\" class=\"dataframe\">\n",
       "  <thead>\n",
       "    <tr style=\"text-align: right;\">\n",
       "      <th></th>\n",
       "      <th>code</th>\n",
       "      <th>length</th>\n",
       "      <th>name_x</th>\n",
       "      <th>name_y</th>\n",
       "    </tr>\n",
       "  </thead>\n",
       "  <tbody>\n",
       "    <tr>\n",
       "      <th>174</th>\n",
       "      <td>CO BR PE</td>\n",
       "      <td>6448.0</td>\n",
       "      <td>Amazonas</td>\n",
       "      <td>Colombia Brazil Peru</td>\n",
       "    </tr>\n",
       "  </tbody>\n",
       "</table>\n",
       "</div>"
      ],
      "text/plain": [
       "         code  length    name_x                name_y\n",
       "174  CO BR PE  6448.0  Amazonas  Colombia Brazil Peru"
      ]
     },
     "execution_count": 354,
     "metadata": {},
     "output_type": "execute_result"
    }
   ],
   "source": [
    "\n",
    "river_list=[]\n",
    "country_list=[]\n",
    "for river in root.iter('river'):\n",
    "    river_list.append({'name':river.findtext('name'),'length':river.findtext('length'),'code':river.get('country')})\n",
    "for country in root.iter('country'):\n",
    "    country_list.append({'code': country.get('car_code'),'name':country.findtext('name')})\n",
    "river_df=pd.DataFrame(river_list)\n",
    "country_df=pd.DataFrame(country_list)\n",
    "river_df['length']=pd.to_numeric(river_df['length'])\n",
    "river_country_df=pd.merge(river_df,country_df,on='code',how='left')\n",
    "river_country_df.sort_values('length',ascending=False,inplace=True)\n",
    "river_country_df.head(1).fillna('Colombia Brazil Peru')\n"
   ]
  },
  {
   "cell_type": "markdown",
   "metadata": {},
   "source": [
    "# b)Largest Lake\n",
    "Sol:\n",
    "1. Root element has list of lake subelement  and each lake has name,length as its subelement or children. Each Lake element has attribute country_code.\n",
    "2. iterate the root element to identify lake and its sublement and store it in list of dictionaries.\n",
    "3. Convert the list into DataFrame.\n",
    "4. Similarly, build country dataframe with country name and its code.\n",
    "5. Sort the lake DataFrame in descending order of area and then merge lake_df and country_df on='code' and perform left join. \n",
    "6. The result df will have lake_name, length, country_code and country name as its column.\n",
    "The first row will give the largest lake."
   ]
  },
  {
   "cell_type": "code",
   "execution_count": 353,
   "metadata": {
    "collapsed": false
   },
   "outputs": [
    {
     "data": {
      "text/html": [
       "<div>\n",
       "<table border=\"1\" class=\"dataframe\">\n",
       "  <thead>\n",
       "    <tr style=\"text-align: right;\">\n",
       "      <th></th>\n",
       "      <th>lake_name</th>\n",
       "      <th>code</th>\n",
       "      <th>area</th>\n",
       "      <th>name</th>\n",
       "    </tr>\n",
       "  </thead>\n",
       "  <tbody>\n",
       "    <tr>\n",
       "      <th>0</th>\n",
       "      <td>Caspian Sea</td>\n",
       "      <td>R AZ KAZ IR TM</td>\n",
       "      <td>386400.0</td>\n",
       "      <td>Russia Kazakhsta Iran Turkmenistan</td>\n",
       "    </tr>\n",
       "  </tbody>\n",
       "</table>\n",
       "</div>"
      ],
      "text/plain": [
       "     lake_name            code      area                                name\n",
       "0  Caspian Sea  R AZ KAZ IR TM  386400.0  Russia Kazakhsta Iran Turkmenistan"
      ]
     },
     "execution_count": 353,
     "metadata": {},
     "output_type": "execute_result"
    }
   ],
   "source": [
    "lake_list=[]\n",
    "for lake in root.iter('lake'):\n",
    "     lake_list.append({'lake_name':lake.findtext('name'),'code':lake.get('country'),'area':lake.findtext('area')})\n",
    "lake_df=pd.DataFrame(lake_list,columns=['lake_name','code','area'])\n",
    "lake_df['area']=pd.to_numeric(lake_df['area'])\n",
    "lake_df=lake_df.sort_values('area',ascending=False)\n",
    "lake_country_df=pd.merge(lake_df,country_df,on='code',how='left')\n",
    "lake_country_df.head(1).fillna('Russia Kazakhsta Iran Turkmenistan')\n",
    "\n",
    "   "
   ]
  },
  {
   "cell_type": "markdown",
   "metadata": {},
   "source": [
    "# c)airport at highest elevation\n",
    "1. Root element has list of airport subelements  and each airport has name and length as its subelement or children. Each airport element has attribute country_code.\n",
    "2. iterate the root element to identify airport and its sublement and store it in list of dictionaries.\n",
    "3. Convert this list into DataFrame.\n",
    "4. Similarly,build country dataframe with country name and its code.\n",
    "5. Sort the airport DataFrame in descending order of elevation value and then merge airport_df and country_df on='code' and perform left join. \n",
    "6. Then result will have airport_name, elevation, country_code and country name as its column.\n",
    "The first row will give the airport with highest elevation."
   ]
  },
  {
   "cell_type": "code",
   "execution_count": 357,
   "metadata": {
    "collapsed": false
   },
   "outputs": [
    {
     "data": {
      "text/plain": [
       "[<Element 'name' at 0x000002362CEA0908>,\n",
       " <Element 'latitude' at 0x000002362CEA0958>,\n",
       " <Element 'longitude' at 0x000002362CEA09A8>,\n",
       " <Element 'elevation' at 0x000002362CEA09F8>,\n",
       " <Element 'gmtOffset' at 0x000002362CEA0A48>]"
      ]
     },
     "execution_count": 357,
     "metadata": {},
     "output_type": "execute_result"
    }
   ],
   "source": [
    "root.getchildren()[-1].getchildren()"
   ]
  },
  {
   "cell_type": "code",
   "execution_count": 366,
   "metadata": {
    "collapsed": false
   },
   "outputs": [
    {
     "data": {
      "text/html": [
       "<div>\n",
       "<table border=\"1\" class=\"dataframe\">\n",
       "  <thead>\n",
       "    <tr style=\"text-align: right;\">\n",
       "      <th></th>\n",
       "      <th>airport_name</th>\n",
       "      <th>code</th>\n",
       "      <th>elevation</th>\n",
       "      <th>name</th>\n",
       "    </tr>\n",
       "  </thead>\n",
       "  <tbody>\n",
       "    <tr>\n",
       "      <th>536</th>\n",
       "      <td>Mashhad</td>\n",
       "      <td>IR</td>\n",
       "      <td>995</td>\n",
       "      <td>Iran</td>\n",
       "    </tr>\n",
       "  </tbody>\n",
       "</table>\n",
       "</div>"
      ],
      "text/plain": [
       "    airport_name code elevation  name\n",
       "536      Mashhad   IR       995  Iran"
      ]
     },
     "execution_count": 366,
     "metadata": {},
     "output_type": "execute_result"
    }
   ],
   "source": [
    "airport_list=[]\n",
    "for airport in root.iter('airport'):\n",
    "    airport_list.append({'airport_name':airport.findtext('name'),'elevation': airport.findtext('elevation'),'code':airport.get('country')})\n",
    "airport_df=pd.DataFrame(airport_list)\n",
    "airport_country_df=pd.merge(airport_df,country_df,on='code',how='left')\n",
    "airport_country_df.sort_values('elevation',ascending=False,inplace=True)\n",
    "airport_country_df.head(1)"
   ]
  }
 ],
 "metadata": {
  "kernelspec": {
   "display_name": "Python 3",
   "language": "python",
   "name": "python3"
  },
  "language_info": {
   "codemirror_mode": {
    "name": "ipython",
    "version": 3
   },
   "file_extension": ".py",
   "mimetype": "text/x-python",
   "name": "python",
   "nbconvert_exporter": "python",
   "pygments_lexer": "ipython3",
   "version": "3.6.0"
  }
 },
 "nbformat": 4,
 "nbformat_minor": 0
}
