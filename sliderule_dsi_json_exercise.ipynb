{
 "cells": [
  {
   "cell_type": "markdown",
   "metadata": {},
   "source": [
    "# JSON examples and exercise\n",
    "****\n",
    "+ get familiar with packages for dealing with JSON\n",
    "+ study examples with JSON strings and files \n",
    "+ work on exercise to be completed and submitted \n",
    "****\n",
    "+ reference: http://pandas.pydata.org/pandas-docs/stable/io.html#io-json-reader\n",
    "+ data source: http://jsonstudio.com/resources/\n",
    "****"
   ]
  },
  {
   "cell_type": "code",
   "execution_count": null,
   "metadata": {
    "collapsed": true
   },
   "outputs": [],
   "source": [
    "import pandas as pd"
   ]
  },
  {
   "cell_type": "markdown",
   "metadata": {},
   "source": [
    "## imports for Python, Pandas"
   ]
  },
  {
   "cell_type": "code",
   "execution_count": null,
   "metadata": {
    "collapsed": true
   },
   "outputs": [],
   "source": [
    "import json\n",
    "from pandas.io.json import json_normalize"
   ]
  },
  {
   "cell_type": "markdown",
   "metadata": {},
   "source": [
    "## JSON example, with string\n",
    "\n",
    "+ demonstrates creation of normalized dataframes (tables) from nested json string\n",
    "+ source: http://pandas.pydata.org/pandas-docs/stable/io.html#normalization"
   ]
  },
  {
   "cell_type": "code",
   "execution_count": null,
   "metadata": {
    "collapsed": true
   },
   "outputs": [],
   "source": [
    "# define json string\n",
    "data = [{'state': 'Florida', \n",
    "         'shortname': 'FL',\n",
    "         'info': {'governor': 'Rick Scott'},\n",
    "         'counties': [{'name': 'Dade', 'population': 12345},\n",
    "                      {'name': 'Broward', 'population': 40000},\n",
    "                      {'name': 'Palm Beach', 'population': 60000}]},\n",
    "        {'state': 'Ohio',\n",
    "         'shortname': 'OH',\n",
    "         'info': {'governor': 'John Kasich'},\n",
    "         'counties': [{'name': 'Summit', 'population': 1234},\n",
    "                      {'name': 'Cuyahoga', 'population': 1337}]}]"
   ]
  },
  {
   "cell_type": "code",
   "execution_count": null,
   "metadata": {
    "collapsed": false
   },
   "outputs": [],
   "source": [
    "# use normalization to create tables from nested element\n",
    "json_normalize(data, 'counties')"
   ]
  },
  {
   "cell_type": "code",
   "execution_count": null,
   "metadata": {
    "collapsed": false
   },
   "outputs": [],
   "source": [
    "# further populate tables created from nested element\n",
    "json_normalize(data, 'counties', ['state', 'shortname', ['info', 'governor']])"
   ]
  },
  {
   "cell_type": "markdown",
   "metadata": {},
   "source": [
    "****\n",
    "## JSON example, with file\n",
    "\n",
    "+ demonstrates reading in a json file as a string and as a table\n",
    "+ uses small sample file containing data about projects funded by the World Bank \n",
    "+ data source: http://jsonstudio.com/resources/"
   ]
  },
  {
   "cell_type": "code",
   "execution_count": null,
   "metadata": {
    "collapsed": false
   },
   "outputs": [],
   "source": [
    "# load json as string\n",
    "json.load((open('data/world_bank_projects_less.json')))"
   ]
  },
  {
   "cell_type": "code",
   "execution_count": null,
   "metadata": {
    "collapsed": false
   },
   "outputs": [],
   "source": [
    "# load as Pandas dataframe\n",
    "sample_json_df = pd.read_json('data/world_bank_projects_less.json')\n",
    "sample_json_df"
   ]
  },
  {
   "cell_type": "markdown",
   "metadata": {
    "collapsed": true
   },
   "source": [
    "****\n",
    "## JSON exercise\n",
    "\n",
    "Using data in file 'data/world_bank_projects.json' and the techniques demonstrated above,\n",
    "1. Find the 10 countries with most projects\n",
    "2. Find the top 10 major project themes (using column 'mjtheme_namecode')\n",
    "3. In 2. above you will notice that some entries have only the code and the name is missing. Create a dataframe with the missing names filled in."
   ]
  },
  {
   "cell_type": "code",
   "execution_count": null,
   "metadata": {
    "collapsed": false
   },
   "outputs": [],
   "source": [
    "# importing numpy package\n",
    "import numpy as np\n",
    "dict=json.load(open('data/world_bank_projects.json'))\n",
    "df=pd.DataFrame(dict)\n",
    "df.head()\n",
    "df.columns"
   ]
  },
  {
   "cell_type": "markdown",
   "metadata": {},
   "source": [
    "# 1.Find the 10 countries with most projects"
   ]
  },
  {
   "cell_type": "markdown",
   "metadata": {},
   "source": [
    "Steps: \n",
    "1.create dataframe from jsonstring (dict) using Pandas.DataFrame() function.\n",
    "2. Dataframe is two dimensional data structure can perform arithmetic operation using column and row labels\n",
    "3. df.head(n) is used to display 'n' rows of dataframe(df),default is first five rows\n",
    "4. df.columns gives column names in that Data frame\n",
    "5. we can query the data frame using column name. to identify the countries with most project, will query dataframe -df.countryname gives list of country name in data frame.\n",
    "6.value_counts()returns the counts of series : df.country_name. The result will be in descending order. The country name whose count is higher is considered as countries involved in most projects.\n",
    "7. To identify top 10 will use the head function with argument n=10 gives the top 10 countries with most project."
   ]
  },
  {
   "cell_type": "code",
   "execution_count": null,
   "metadata": {
    "collapsed": false
   },
   "outputs": [],
   "source": [
    "# value_counts() gives the counts of country name \n",
    "df.countryname.value_counts().head(10)"
   ]
  },
  {
   "cell_type": "markdown",
   "metadata": {},
   "source": [
    "# 2.Find the top 10 major project themes (using column 'mjtheme_namecode')\n"
   ]
  },
  {
   "cell_type": "markdown",
   "metadata": {},
   "source": [
    "steps:\n",
    "1.To identify 10 major project theme,will query dataframe using column 'mjtheme_namecode'\n",
    "2.mjtheme_namecode column is list of dictionaries.\n",
    "3.Using json_normalize (), will convert list or list of dict into data frame ie.mjp_df\n",
    "4.mjp_df can be queried using columns.It has two columns code and name. But in column 'name' some values are not filed.\n",
    "5 Using mjp_df.replace() function, will replace blank space in columns by none using numpy.nan\n",
    "6.Value_counts() gives the counts of name of project theme, it also counts no of NaN value in that name column. \n",
    "7. But count of NaN is not relevant to this finding, inorder to remove nan count from the result  will drop all NAN value in column by dropna() function.Which will return a series.\n",
    "8.mjp_ser is series which holds the projectthemename and its count. In order to display top 10 major projecttheme, will use head(n=10) fuction to display top 10 major project theme. The project which has higher values is considered as major project theme.\n",
    "   "
   ]
  },
  {
   "cell_type": "code",
   "execution_count": null,
   "metadata": {
    "collapsed": false
   },
   "outputs": [],
   "source": [
    "#json_normalize is used to convert dict into flat table\n",
    "mjp_df=json_normalize(dict,'mjtheme_namecode')\n",
    "mjp_df=mjp_df.replace('',np.nan)\n",
    "mjp_ser=mjp_df.name.dropna(how='any').value_counts()\n",
    "mjp_ser.head(10)\n",
    "\n",
    "\n"
   ]
  },
  {
   "cell_type": "markdown",
   "metadata": {},
   "source": [
    "                                    or"
   ]
  },
  {
   "cell_type": "code",
   "execution_count": null,
   "metadata": {
    "collapsed": false
   },
   "outputs": [],
   "source": [
    "# group the series based on code on column and find its size in each group.\n",
    "#Sort_values() will sort the numering value in descending order,ie Large values are top rows nad so on.\n",
    "# head display first n values from DF or series.\n",
    "mjp_df.groupby(['code','name']).size().sort_values(ascending=False).head(10)"
   ]
  },
  {
   "cell_type": "markdown",
   "metadata": {},
   "source": [
    "# In 2. above you will notice that some entries have only the code and the name is missing. Create a dataframe with the missing names filled in."
   ]
  },
  {
   "cell_type": "markdown",
   "metadata": {},
   "source": [
    "steps:\n",
    "1.In order to identify no of columns and rows of dataframe, shape() function is used.\n",
    "2.To identify no of Nan in name column, isnull() and sum() functions are used. isnull() will return boolean series, True if the column has null value and False if it doesnt. Sum() used to find total no of True bcoz boolean True is considered as numeric one and it find total no of one in that series.\n",
    "3. To find no of not null values, notnull() and sum() functions are used.\n",
    "4.To fill the missing values of name, will use 'code' for that name to find the missing value. Each project name has unique code. \n",
    "5.First, we should identify code and its name, will use groupby() function. It will group the series using columns specifed as an argument. After spliting,performing aggregation ie finding total no project in each group.\n",
    "6. Ser is series stores the result of groupby and sum. That series gives list of project name and its count. And then series is converted to dataframe using pd.DataFrame() function, ie mjp_name_df.\n",
    "7.DataFrame.reset_index(inplace=True) is used to reset index for each row,inplace argument tells that the changes made by the function is saved in original dataframe that the  function is called. Default value is False\n",
    "8.To fill missing values, merging two dataframe on column 'code'. ie. Merging one column of Dataframe ie mjp_df[['code']] with \n",
    "mjp_name_df with argument how='left' is passed. Left Dataframe column 'code' remains the same and merging the right DF column based on left DF column 'code'."
   ]
  },
  {
   "cell_type": "code",
   "execution_count": null,
   "metadata": {
    "collapsed": false
   },
   "outputs": [],
   "source": [
    "mjp_df.shape"
   ]
  },
  {
   "cell_type": "code",
   "execution_count": null,
   "metadata": {
    "collapsed": false
   },
   "outputs": [],
   "source": [
    "mjp_df.name.isnull().sum()"
   ]
  },
  {
   "cell_type": "code",
   "execution_count": null,
   "metadata": {
    "collapsed": false
   },
   "outputs": [],
   "source": [
    "mjp_df.name.notnull().sum()"
   ]
  },
  {
   "cell_type": "code",
   "execution_count": null,
   "metadata": {
    "collapsed": false
   },
   "outputs": [],
   "source": [
    "ser=mjp_df.groupby(['code','name']).size()\n",
    "ser"
   ]
  },
  {
   "cell_type": "code",
   "execution_count": null,
   "metadata": {
    "collapsed": false
   },
   "outputs": [],
   "source": [
    "mjp_name_df=pd.DataFrame(ser)\n",
    "mjp_name_df.reset_index(inplace=True)\n",
    "mjp_name_df.dtypes\n",
    "mjp_name_df\n"
   ]
  },
  {
   "cell_type": "code",
   "execution_count": null,
   "metadata": {
    "collapsed": false
   },
   "outputs": [],
   "source": [
    "#merging right table with left table column 'code'\n",
    "mjp_filled_df=pd.merge(mjp_df[['code']],mjp_name_df[['code','name']], on='code',how='left')\n",
    "mjp_filled_df     \n",
    "        "
   ]
  }
 ],
 "metadata": {
  "kernelspec": {
   "display_name": "Python 3",
   "language": "python",
   "name": "python3"
  },
  "language_info": {
   "codemirror_mode": {
    "name": "ipython",
    "version": 3
   },
   "file_extension": ".py",
   "mimetype": "text/x-python",
   "name": "python",
   "nbconvert_exporter": "python",
   "pygments_lexer": "ipython3",
   "version": "3.6.0"
  }
 },
 "nbformat": 4,
 "nbformat_minor": 0
}
